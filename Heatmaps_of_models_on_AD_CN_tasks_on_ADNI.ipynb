{
  "nbformat": 4,
  "nbformat_minor": 0,
  "metadata": {
    "colab": {
      "provenance": [],
      "authorship_tag": "ABX9TyPAyhVlqqPWePnBQG33jjtW",
      "include_colab_link": true
    },
    "kernelspec": {
      "name": "python3",
      "display_name": "Python 3"
    },
    "language_info": {
      "name": "python"
    }
  },
  "cells": [
    {
      "cell_type": "markdown",
      "metadata": {
        "id": "view-in-github",
        "colab_type": "text"
      },
      "source": [
        "<a href=\"https://colab.research.google.com/github/JWKKWJ123/google-colab/blob/main/Heatmaps_of_models_on_AD_CN_tasks_on_ADNI.ipynb\" target=\"_parent\"><img src=\"https://colab.research.google.com/assets/colab-badge.svg\" alt=\"Open In Colab\"/></a>"
      ]
    },
    {
      "cell_type": "code",
      "execution_count": null,
      "metadata": {
        "id": "XdFZH_d6pcF8"
      },
      "outputs": [],
      "source": [
        "import nibabel as nib\n",
        "import math\n",
        "import pandas as pd\n",
        "import numpy as np\n",
        "import os\n",
        "import cv2\n",
        "import einops\n",
        "import glob\n",
        "import time\n",
        "import einops\n",
        "import matplotlib.pyplot as plt\n",
        "import matplotlib as mpl\n",
        "from matplotlib.gridspec import GridSpec\n",
        "from matplotlib.colors import ListedColormap, LinearSegmentedColormap\n",
        "from scipy import ndimage\n",
        "from scipy.ndimage import gaussian_filter\n"
      ]
    },
    {
      "cell_type": "code",
      "source": [
        "def plot_selected_slices(struct_arr, num_slices=6, cmap='gray', vmin=None, vmax=None, overlay=None,\n",
        "                         overlay_cmap='hot', overlay_vmin=None, overlay_vmax=None, _class=None, iteration=0):\n",
        "    \"\"\"\n",
        "    Plot slices of a 3D image (and an overlay) along every axis, restricted to the middle 25%-75% region.\n",
        "    \"\"\"\n",
        "    import matplotlib.pyplot as plt\n",
        "    import numpy as np\n",
        "    from scipy import ndimage\n",
        "    from matplotlib.gridspec import GridSpec\n",
        "\n",
        "    if vmin is None:\n",
        "        vmin = struct_arr.min()\n",
        "    if vmax is None:\n",
        "        vmax = struct_arr.max()\n",
        "    if overlay_vmin is None and overlay is not None:\n",
        "        overlay_vmin = overlay.min()\n",
        "    if overlay_vmax is None and overlay is not None:\n",
        "        overlay_vmax = overlay.max()\n",
        "    print(vmin, vmax, overlay_vmin, overlay_vmax)\n",
        "\n",
        "    # Create the figure with GridSpec for precise control\n",
        "    fig = plt.figure(figsize=(num_slices * 2, 6))\n",
        "    gs = GridSpec(3, num_slices, figure=fig, wspace=0.05, hspace=0.02)  # Reduced hspace to minimize row spacing\n",
        "\n",
        "    # Define slice indices for the middle 25%-75% range\n",
        "    slice_ranges = []\n",
        "    for axis in range(3):\n",
        "        start = int(struct_arr.shape[axis] * 0.25)\n",
        "        end = int(struct_arr.shape[axis] * 0.75)\n",
        "        indices = np.linspace(start, end, num_slices, dtype=int)\n",
        "        slice_ranges.append(indices)\n",
        "\n",
        "    # Add the overlay colorbar (if overlay is provided)\n",
        "    cbar_ax = None\n",
        "    if overlay is not None:\n",
        "        cbar_ax = fig.add_axes([0.92, 0.2, 0.015, 0.6])  # Adjusted colorbar position and size\n",
        "\n",
        "    for axis, axis_label in zip([0, 1, 2], ['x', 'y', 'z']):\n",
        "        for i in range(num_slices):\n",
        "            ax = fig.add_subplot(gs[axis, i])  # Use GridSpec to position subplots\n",
        "            i_slice = slice_ranges[axis][i]\n",
        "\n",
        "            ax.axis('off')\n",
        "            ax.imshow(ndimage.rotate(np.take(struct_arr, i_slice, axis=axis), 90),\n",
        "                      vmin=vmin, vmax=vmax, cmap=cmap, interpolation=None)\n",
        "            ax.text(0.03, 0.97, '{}={}'.format(axis_label, i_slice), color='white',\n",
        "                    horizontalalignment='left', verticalalignment='top', transform=ax.transAxes)\n",
        "\n",
        "            if overlay is not None:\n",
        "                im = ax.imshow(ndimage.rotate(np.take(overlay, i_slice, axis=axis), 90),\n",
        "                               cmap=overlay_cmap, vmin=overlay_vmin, vmax=overlay_vmax,\n",
        "                               interpolation=None, alpha=0.7)\n",
        "\n",
        "    # Add colorbar for the overlay\n",
        "    if overlay is not None:\n",
        "        fig.colorbar(im, cax=cbar_ax)\n",
        "\n",
        "    # Save the plotted heatmap slice (optional; specify appropriate file path)\n",
        "    plt.show()\n",
        "    #plt.close(fig)\n",
        "\n",
        "\n",
        "\n",
        "\n"
      ],
      "metadata": {
        "id": "15sWev6vrwoQ"
      },
      "execution_count": null,
      "outputs": []
    },
    {
      "cell_type": "code",
      "source": [
        "#colors = ['black','blue','orange','red']\n",
        "colors = ['black','black','blue','orange','gold','tomato','red']\n",
        "#colors = ['red','tomato','blue','orange','gold','black','black']\n",
        "#colors = ['blue','green','black','gold','red']\n",
        "\n",
        "color_list = ListedColormap(colors)\n",
        "\n",
        "mycmap = LinearSegmentedColormap.from_list('mycmap', colors)"
      ],
      "metadata": {
        "id": "VzljtUlHr2bd"
      },
      "execution_count": null,
      "outputs": []
    }
  ]
}